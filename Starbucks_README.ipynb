{
 "cells": [
  {
   "cell_type": "markdown",
   "metadata": {},
   "source": [
    "### Starbucks Capstone Project\n",
    "\n",
    "This is my Capstone Project for Udacity's Machine Learning Engineer Nanodegree. Project use some Machin Learning algorithms to predict customer responce on campain marketing (specially different offer sent to customers)."
   ]
  },
  {
   "cell_type": "markdown",
   "metadata": {},
   "source": [
    "#### Contents\n",
    "\n",
    "1. [Installation](#installation)\n",
    "2. [Project Overview](#project)\n",
    "3. [File Descriptions](#filedes)\n",
    "4. [Results Summary](#result)"
   ]
  },
  {
   "cell_type": "markdown",
   "metadata": {},
   "source": [
    "<a id='installation'></a>\n",
    "#### 1. Installation\n",
    "\n",
    "To recreate this project you will need:\n",
    "- Python 3.7 or above\n",
    "- The following Conda and Pip files:\n",
    "\n",
    "`conda install --file conda_requirements.txt`\n",
    "\n",
    "`pip install pip_requirements.txt`"
   ]
  },
  {
   "cell_type": "markdown",
   "metadata": {},
   "source": [
    "<a id='project'></a>\n",
    "#### Project Overview\n",
    "\n",
    "Udacity partnered with Starbucks to provide a real-world business problem and simulated data mimicking their customer behavior. This project is focused on tailoring the personalized offers sent as part of the Starbucks Rewards Program to the customers who are most likely to use them. The Machine Learning terminology for this is \"propensity modeling\".\n",
    "\n",
    "We want to determine which kind of offer, if any, to send to each customer based on their purchases and interaction with the previously sent offers. Some customers do not want to receive offers and might be turned off by them, so we want to avoid sending offers to those customers."
   ]
  },
  {
   "cell_type": "markdown",
   "metadata": {},
   "source": [
    "<a id='filedes'></a>\n",
    "#### File Descriptions\n",
    "\n",
    "- **conda_requirements.txt** - The Conda packages required to run this program.\n",
    "- **data/portfolio.json** - This was provided by Starbucks and contains the information about the offers. There are a total of 10 offers.\n",
    "- **data/profile.json** - This was provided by Starbucks and contains demographic information about the customers. There are a total of 17,000 customer profiles.\n",
    "- **data/transcript.json** - This was provided by Starbucks and contains information about a customer's purchases and their interaction with the offers. There are 306,534 events recorded.\n",
    "- **pip_requirements.txt** - The Pip packages required to run this program.\n",
    "- **starbucks proposal.pdf** - Initial proposal for this project.\n",
    "- **Starbucks Final report.pdf** - Final report on this project.\n",
    "- **Starbucksfinal.ipynb** - The Jupyter Notebook containing all data exploration, wrangling, model building, model improvement, and the results."
   ]
  },
  {
   "cell_type": "markdown",
   "metadata": {},
   "source": [
    "<a id='result'></a>\n",
    "#### Results Summary\n",
    "\n",
    "In project used 4 different classification models. following table shows their results:\n",
    "\n",
    "| Models                 |**Accuracy**|**F1 Score**|**Improvement Model**|\n",
    "|:-----------------------|:--------:|:--------:|:-----------------:|\n",
    "|**Logistic regression** |          |          |                   |\n",
    "|liblinear               |0.5573239 |0.5684475 |                   |\n",
    "| lbfgs                  |0.5090369 |0.5102536 |                   |\n",
    "| newton-cg              |0.6565956 |0.6610901 |                   |\n",
    "| saga                   |0.3968168 |0.3974635 |                   |\n",
    "| sag                    |0.4014027 |0.3999820 |                   |\n",
    "|**GaussianNB**          |0.6118154 |0.6125202 |                   |\n",
    "|**Decision Tree**       |**0.6679255**| 1.0   |***0.7178***       |\n",
    "|**Support Vector Machine**|0.6679255|0.3630149|                   |"
   ]
  }
 ],
 "metadata": {
  "kernelspec": {
   "display_name": "Python 3",
   "language": "python",
   "name": "python3"
  },
  "language_info": {
   "codemirror_mode": {
    "name": "ipython",
    "version": 3
   },
   "file_extension": ".py",
   "mimetype": "text/x-python",
   "name": "python",
   "nbconvert_exporter": "python",
   "pygments_lexer": "ipython3",
   "version": "3.7.6"
  }
 },
 "nbformat": 4,
 "nbformat_minor": 4
}
